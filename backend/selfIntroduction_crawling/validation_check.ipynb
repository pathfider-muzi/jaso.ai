{
 "cells": [
  {
   "cell_type": "code",
   "execution_count": 1,
   "metadata": {},
   "outputs": [],
   "source": [
    "import os\n",
    "import re\n",
    "import json\n",
    "from pprint import pprint\n",
    "from tqdm import tqdm"
   ]
  },
  {
   "cell_type": "code",
   "execution_count": 2,
   "metadata": {},
   "outputs": [],
   "source": [
    "data_dir = '../data_question_seperated/'\n",
    "save_dir = '../valid_data_question_seperated/'\n",
    "invalid_dir = '../invalid_data_question_seperated/'\n",
    "data_list = os.listdir(data_dir)\n",
    "invalid_id = list()"
   ]
  },
  {
   "cell_type": "code",
   "execution_count": 3,
   "metadata": {},
   "outputs": [],
   "source": [
    "def invalid_save(data):\n",
    "\tsave_file_name = invalid_dir + 'invalid_data_question_seperated' + str(data['id']) + '-' + str(data['sub_id']) + '.json'\n",
    "\twith open(save_file_name, 'w') as f:\n",
    "\t\tjson.dump(data, f, ensure_ascii=False, indent=4, sort_keys=True)"
   ]
  },
  {
   "cell_type": "code",
   "execution_count": 4,
   "metadata": {},
   "outputs": [],
   "source": [
    "def save_file(data):\n",
    "\tsave_file_name = save_dir + 'valid_data_question_seperated' + str(data['id']) + '-' + str(data['sub_id']) + '.json'\n",
    "\twith open(save_file_name, 'w') as f:\n",
    "\t\tjson.dump(data, f, ensure_ascii=False, indent=4, sort_keys=True)\n",
    "\t"
   ]
  },
  {
   "cell_type": "code",
   "execution_count": 5,
   "metadata": {},
   "outputs": [],
   "source": [
    "def is_valid_id(id: int) -> bool:\n",
    "\tif id in invalid_id:\n",
    "\t\treturn False\n",
    "\treturn True"
   ]
  },
  {
   "cell_type": "code",
   "execution_count": 6,
   "metadata": {},
   "outputs": [],
   "source": [
    "def query_check(query: str) -> bool:\n",
    "\tif len(query) < 10:\n",
    "\t\treturn False\n",
    "\treturn True"
   ]
  },
  {
   "cell_type": "code",
   "execution_count": 7,
   "metadata": {},
   "outputs": [],
   "source": [
    "def answer_check(answer: str) -> bool:\n",
    "\tif len(answer) < 150:\n",
    "\t\treturn False\n",
    "\treturn True"
   ]
  },
  {
   "cell_type": "code",
   "execution_count": 8,
   "metadata": {},
   "outputs": [],
   "source": [
    "def validation_check(data):\n",
    "\tif is_valid_id(data['id']) == True and query_check(data['question']) == True and answer_check(data['answer']) == True:\n",
    "\t\treturn True\n",
    "\telse:\n",
    "\t\tif data['id'] not in invalid_id:\n",
    "\t\t\tinvalid_id.append(data['id'])\n",
    "\t\treturn False"
   ]
  },
  {
   "cell_type": "code",
   "execution_count": 9,
   "metadata": {},
   "outputs": [
    {
     "name": "stderr",
     "output_type": "stream",
     "text": [
      "100%|██████████| 29826/29826 [00:43<00:00, 688.98it/s] \n"
     ]
    }
   ],
   "source": [
    "for d in tqdm(data_list):\n",
    "\tfile_name = data_dir + d\n",
    "\twith open(file_name) as file:\n",
    "\t\tdata = json.load(file)\n",
    "\t\tif validation_check(data) is True:\n",
    "\t\t\tsave_file(data)\n",
    "\t\telse:\n",
    "\t\t\tinvalid_save(data)"
   ]
  },
  {
   "cell_type": "code",
   "execution_count": 10,
   "metadata": {},
   "outputs": [
    {
     "name": "stdout",
     "output_type": "stream",
     "text": [
      "total valid --> 17730\n",
      "total invalid --> 12096\n"
     ]
    }
   ],
   "source": [
    "valid_num = len(os.listdir(save_dir))\n",
    "invalid_num = len(os.listdir(invalid_dir))\n",
    "print(f'total valid --> {valid_num}')\n",
    "print(f'total invalid --> {invalid_num}')"
   ]
  }
 ],
 "metadata": {
  "interpreter": {
   "hash": "a471f07956214a3a9b72d05937a5ae6f29e1203c07f0f5eb7070b5309f98919a"
  },
  "kernelspec": {
   "display_name": "Python 3.7.10 64-bit ('demucs': conda)",
   "language": "python",
   "name": "python3"
  },
  "language_info": {
   "codemirror_mode": {
    "name": "ipython",
    "version": 3
   },
   "file_extension": ".py",
   "mimetype": "text/x-python",
   "name": "python",
   "nbconvert_exporter": "python",
   "pygments_lexer": "ipython3",
   "version": "3.7.10"
  },
  "orig_nbformat": 4
 },
 "nbformat": 4,
 "nbformat_minor": 2
}
