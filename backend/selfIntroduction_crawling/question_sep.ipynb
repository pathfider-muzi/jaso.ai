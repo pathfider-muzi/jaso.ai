{
 "cells": [
  {
   "cell_type": "code",
   "execution_count": 17,
   "metadata": {},
   "outputs": [],
   "source": [
    "import os\n",
    "import re\n",
    "import json\n",
    "from pprint import pprint\n",
    "from tqdm import tqdm"
   ]
  },
  {
   "cell_type": "code",
   "execution_count": 18,
   "metadata": {},
   "outputs": [],
   "source": [
    "hangeul = ['가', '나', '다', '라', '마', '바', '사']\n",
    "section_list = ['\\u25b6', 'Q.', 'Guide>', '*']\n",
    "for i in range(1, 10):\n",
    "\tsection_list.append(str(i) + '.')\n",
    "\tsection_list.append(str(i) + ')')\n",
    "\tsection_list.append(str(i) + ' .')\n",
    "\tsection_list.append(str(i) + ' )')\n",
    "\tsection_list.append('Essay ' + str(i))\n",
    "\tsection_list.append('Essay' + str(i))\n",
    "for h in hangeul:\n",
    "\tsection_list.append(h + '.')\n",
    "\tsection_list.append(h + ')')\n",
    "\tsection_list.append(h + ' .')\n",
    "\tsection_list.append(h + ' )')"
   ]
  },
  {
   "cell_type": "code",
   "execution_count": 19,
   "metadata": {},
   "outputs": [],
   "source": [
    "data_dir = '../data_re_labelled/'\n",
    "save_dir = '../data_question_seperated/'\n",
    "data_list = os.listdir(data_dir)\n",
    "already_exist = os.listdir(save_dir)\n",
    "is_already_exist = list()\n",
    "cnt = 1"
   ]
  },
  {
   "cell_type": "code",
   "execution_count": 20,
   "metadata": {},
   "outputs": [
    {
     "name": "stderr",
     "output_type": "stream",
     "text": [
      "100%|██████████| 11795/11795 [00:01<00:00, 6244.37it/s]\n"
     ]
    }
   ],
   "source": [
    "for d in tqdm(already_exist):\n",
    "\tfile_name = save_dir + d\n",
    "\twith open(file_name) as file:\n",
    "\t\tjson_file = json.load(file)\n",
    "\t\t# --- #\n",
    "\t\tid = json_file['id']\n",
    "\t\tis_already_exist.append(id)"
   ]
  },
  {
   "cell_type": "code",
   "execution_count": 21,
   "metadata": {},
   "outputs": [],
   "source": [
    "def num_plus_comma(cnt: int) -> str:\n",
    "\tcnt = str(cnt)\n",
    "\tcnt = ',' + cnt[1:]\n",
    "\treturn cnt"
   ]
  },
  {
   "cell_type": "code",
   "execution_count": 22,
   "metadata": {},
   "outputs": [],
   "source": [
    "def extract_question(li: list) -> list:\n",
    "\tret = list()\n",
    "\tfor l in li:\n",
    "\t\tflag = False\n",
    "\t\tfor section in section_list:\n",
    "\t\t\tif l[:5].find(section) != -1:\n",
    "\t\t\t\tret.append(l)\n",
    "\t\t\t\tbreak\n",
    "\t\t\tfor i in range(100, 2500):\n",
    "\t\t\t\tchk = str(i) + '자'\n",
    "\t\t\t\tif l.find(chk) != -1:\n",
    "\t\t\t\t\tret.append(l)\n",
    "\t\t\t\t\tflag = True\n",
    "\t\t\t\t\tbreak\n",
    "\t\t\t\tchk = str(i) + ' 자'\n",
    "\t\t\t\tif l.find(chk) != -1:\n",
    "\t\t\t\t\tret.append(l)\n",
    "\t\t\t\t\tflag = True\n",
    "\t\t\t\t\tbreak\n",
    "\t\t\t\tchk = str(i) + 'byte'\n",
    "\t\t\t\tif l.find(chk) != -1:\n",
    "\t\t\t\t\tret.append(l)\n",
    "\t\t\t\t\tflag = True\n",
    "\t\t\t\t\tbreak\n",
    "\t\t\t\tchk = str(i) + ' byte'\n",
    "\t\t\t\tif l.find(chk) != -1:\n",
    "\t\t\t\t\tret.append(l)\n",
    "\t\t\t\t\tflag = True\n",
    "\t\t\t\t\tbreak\n",
    "\t\t\t\tif i >= 1000:\n",
    "\t\t\t\t\tcount = num_plus_comma(i)\n",
    "\t\t\t\t\tchk = count + '자'\n",
    "\t\t\t\t\tif l.find(chk) != -1:\n",
    "\t\t\t\t\t\tret.append(l)\n",
    "\t\t\t\t\t\tflag = True\n",
    "\t\t\t\t\t\tbreak\n",
    "\t\t\t\t\tchk = count + ' 자'\n",
    "\t\t\t\t\tif l.find(chk) != -1:\n",
    "\t\t\t\t\t\tret.append(l)\n",
    "\t\t\t\t\t\tflag = True\n",
    "\t\t\t\t\t\tbreak\n",
    "\t\t\t\t\tchk = count + 'byte'\n",
    "\t\t\t\t\tif l.find(chk) != -1:\n",
    "\t\t\t\t\t\tret.append(l)\n",
    "\t\t\t\t\t\tflag = True\n",
    "\t\t\t\t\t\tbreak\n",
    "\t\t\t\t\tchk = count + ' byte'\n",
    "\t\t\t\t\tif l.find(chk) != -1:\n",
    "\t\t\t\t\t\tret.append(l)\n",
    "\t\t\t\t\t\tflag = True\n",
    "\t\t\t\t\t\tbreak\n",
    "\t\t\tif flag is True:\n",
    "\t\t\t\tbreak\n",
    "\treturn ret"
   ]
  },
  {
   "cell_type": "code",
   "execution_count": 23,
   "metadata": {},
   "outputs": [],
   "source": [
    "def list_sentence(content: str) -> list:\n",
    "    content = content.replace('\\r', '\\n')\n",
    "    li = content.split('\\n')\n",
    "    for i in range(len(li) - 1):\n",
    "        if len(li[i + 1]) == 0:\n",
    "            li[i] += '\\n'\n",
    "    for l in li[:]:\n",
    "        if len(l) == 0:\n",
    "            li.remove(l)\n",
    "    return li\n"
   ]
  },
  {
   "cell_type": "code",
   "execution_count": 24,
   "metadata": {},
   "outputs": [],
   "source": [
    "def save_file(d, idx):\n",
    "\tfile_name = data_dir + d\n",
    "\twith open(file_name) as file:\n",
    "\t\tjson_file = json.load(file)\n",
    "\t\t# --- #\n",
    "\t\tid = json_file['id']\n",
    "\t\tif id in is_already_exist:\n",
    "\t\t\treturn\n",
    "\n",
    "\t\tq, l = question_sep(json_file['content'])\n",
    "\t\tif len(q) > 0:\n",
    "\t\t\tmatch_question_answer(q=q, l=l, json_file=json_file)\n",
    "\n",
    "\t\t# --- #\n"
   ]
  },
  {
   "cell_type": "code",
   "execution_count": 25,
   "metadata": {},
   "outputs": [],
   "source": [
    "def match_question_answer(q: list, l: list, json_file: dict):\n",
    "\tsub_cnt = 0\n",
    "\tq_idx = list()\n",
    "\tfor idx, data in enumerate(l):\n",
    "\t\tif data in q:\n",
    "\t\t\tq_idx.append(idx)\n",
    "\tq_idx.append(len(l))\n",
    "\n",
    "\tfor idx in range(0, len(q_idx) - 1):\n",
    "\t\tsub_cnt += 1\n",
    "\t\tnew_json = dict()\n",
    "\t\tquestion = l[q_idx[idx]]\n",
    "\t\tanswer = ' '.join(l[q_idx[idx] + 1:q_idx[idx + 1]])\n",
    "\t\tnew_json['id'] = json_file['id']\n",
    "\t\tnew_json['sub_id'] = sub_cnt\n",
    "\t\tnew_json['question'] = question\n",
    "\t\tnew_json['answer'] = answer\n",
    "\t\tnew_json['license'] = json_file['license']\n",
    "\t\tnew_json['activity'] = json_file['activity']\n",
    "\t\tnew_json['career'] = json_file['career']\n",
    "\t\tnew_json['languageScore'] = json_file['languageScore']\n",
    "\t\tnew_json['grades'] = json_file['grades']\n",
    "\t\tnew_json['major'] = json_file['major']\n",
    "\t\tnew_json['organizaitonName'] = json_file['organizationName']\n",
    "\t\tnew_json['role'] = json_file['role']\n",
    "\t\tnew_json['university'] = json_file['university']\n",
    "\n",
    "\t\t# pprint(new_json)\n",
    "\t\t# print('---------------------------------------------------------------------------------------------------------')\n",
    "\t\t\n",
    "\t\tsave_file_name = save_dir + 'data_qeustion_seperated' + str(json_file['id']) + '-' + str(sub_cnt) + '.json'\n",
    "\t\twith open(save_file_name, 'w') as f:\n",
    "\t\t\tjson.dump(new_json, f, ensure_ascii=False, indent=4, sort_keys=True)\n"
   ]
  },
  {
   "cell_type": "code",
   "execution_count": 26,
   "metadata": {},
   "outputs": [],
   "source": [
    "def question_sep(content: str) -> str:\n",
    "    li = list_sentence(content=content)\n",
    "    question = extract_question(li)\n",
    "    return question, li"
   ]
  },
  {
   "cell_type": "code",
   "execution_count": 27,
   "metadata": {},
   "outputs": [
    {
     "name": "stderr",
     "output_type": "stream",
     "text": [
      "100%|██████████| 9588/9588 [14:55:14<00:00,  5.60s/it]  \n"
     ]
    }
   ],
   "source": [
    "for d in tqdm(data_list):\n",
    "    save_file(d, cnt)\n",
    "    cnt += 1"
   ]
  }
 ],
 "metadata": {
  "interpreter": {
   "hash": "2ed151ba71fe6b63793b54fc9ace45867b13d671cad1da7b1f8183ce67e43377"
  },
  "kernelspec": {
   "display_name": "Python 3.7.10 64-bit ('demucs': conda)",
   "language": "python",
   "name": "python3"
  },
  "language_info": {
   "codemirror_mode": {
    "name": "ipython",
    "version": 3
   },
   "file_extension": ".py",
   "mimetype": "text/x-python",
   "name": "python",
   "nbconvert_exporter": "python",
   "pygments_lexer": "ipython3",
   "version": "3.7.10"
  },
  "orig_nbformat": 4
 },
 "nbformat": 4,
 "nbformat_minor": 2
}
