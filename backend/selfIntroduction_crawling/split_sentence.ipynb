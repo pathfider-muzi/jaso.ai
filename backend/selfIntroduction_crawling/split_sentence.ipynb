{
 "cells": [
  {
   "cell_type": "code",
   "execution_count": 44,
   "id": "571e2c3c",
   "metadata": {},
   "outputs": [],
   "source": [
    "import os\n",
    "import json\n",
    "from tqdm import tqdm\n",
    "from kss import split_sentences"
   ]
  },
  {
   "cell_type": "code",
   "execution_count": 45,
   "id": "61729de2",
   "metadata": {},
   "outputs": [],
   "source": [
    "error_sentences = []\n",
    "rootdir = \"../valid_data_question_seperated\"\n",
    "sentences = []"
   ]
  },
  {
   "cell_type": "code",
   "execution_count": 46,
   "id": "ed6ffd7c",
   "metadata": {},
   "outputs": [],
   "source": [
    "def getSentences(string):\n",
    "    try:\n",
    "        return split_sentences(string.replace('\\n',' ').replace('\\r', ' '))\n",
    "    except:\n",
    "        error_sentences.append(string);"
   ]
  },
  {
   "cell_type": "code",
   "execution_count": 47,
   "id": "17af7284",
   "metadata": {},
   "outputs": [],
   "source": [
    "\n",
    "def readJsonFile(filePath):\n",
    "    with open(filePath, \"r\") as json_file:\n",
    "        json_data = json.load(json_file)\n",
    "        return json_data"
   ]
  },
  {
   "cell_type": "code",
   "execution_count": 48,
   "id": "44b7b668",
   "metadata": {},
   "outputs": [],
   "source": [
    "def writeLinesToFile(filePath, lines):\n",
    "    with open(filePath, \"w\") as file:\n",
    "        for line in lines:\n",
    "            file.write(line)\n",
    "            file.write('\\n')"
   ]
  },
  {
   "cell_type": "code",
   "execution_count": 49,
   "id": "48e2c48d",
   "metadata": {},
   "outputs": [],
   "source": [
    "flatten = lambda l: [item for sublist in l for item in sublist]"
   ]
  },
  {
   "cell_type": "code",
   "execution_count": 50,
   "id": "f9c518ee",
   "metadata": {},
   "outputs": [
    {
     "name": "stderr",
     "output_type": "stream",
     "text": [
      "100%|██████████| 17730/17730 [03:30<00:00, 84.12it/s] \n"
     ]
    }
   ],
   "source": [
    "\n",
    "for subdir, dirs, files in os.walk(rootdir):\n",
    "    for file in tqdm(files):\n",
    "        filePath = (os.path.join(subdir, file))\n",
    "        jsonFile = readJsonFile(filePath)\n",
    "        sentences.append(getSentences(jsonFile[\"answer\"]))\n",
    "\n",
    "sentences = flatten(sentences)\n",
    "writeLinesToFile(\"sentences.txt\",sentences)"
   ]
  }
 ],
 "metadata": {
  "kernelspec": {
   "display_name": "Python 3 (ipykernel)",
   "language": "python",
   "name": "python3"
  },
  "language_info": {
   "codemirror_mode": {
    "name": "ipython",
    "version": 3
   },
   "file_extension": ".py",
   "mimetype": "text/x-python",
   "name": "python",
   "nbconvert_exporter": "python",
   "pygments_lexer": "ipython3",
   "version": "3.7.10"
  }
 },
 "nbformat": 4,
 "nbformat_minor": 5
}
