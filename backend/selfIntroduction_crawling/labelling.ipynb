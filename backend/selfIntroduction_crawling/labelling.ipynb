{
 "cells": [
  {
   "cell_type": "code",
   "execution_count": 1,
   "metadata": {},
   "outputs": [],
   "source": [
    "import os\n",
    "import json\n",
    "from pprint import pprint\n",
    "from tqdm import tqdm\n"
   ]
  },
  {
   "cell_type": "code",
   "execution_count": 2,
   "metadata": {},
   "outputs": [],
   "source": [
    "can_be_splitted = ['activity', 'license', 'languageScore', 'career', 'major']\n",
    "pattern = ['달', '번', '회']\n",
    "tagging_special = ['-', 'x', 'X', '무', '있음', '다수', '0', '없음', '무...', '.', '성', 'ㄴ', 'H', '중', '토익: ',\n",
    "                   '토익스피킹: ', '오픽: ', '기타: ', '사회생활 경험: ', '사회생활 경험: .', '2', '7', 'K', '오픽', '해외']\n",
    "for i in range(1, 11):\n",
    "\tfor p in pattern:\n",
    "\t\tindex_p = str(i) + p\n",
    "\t\ttagging_special.append(index_p)"
   ]
  },
  {
   "cell_type": "code",
   "execution_count": 3,
   "metadata": {},
   "outputs": [],
   "source": [
    "data_dir = '../json_data_with_all_keys/'\n",
    "save_dir = '../data_re_labelled/'\n",
    "data_list = os.listdir(data_dir)\n",
    "cnt = 1\n"
   ]
  },
  {
   "cell_type": "code",
   "execution_count": 4,
   "metadata": {},
   "outputs": [],
   "source": [
    "def split_multi_data(d: str):\n",
    "    d = d.replace('\\n', '|').replace(', ', '|').replace(\n",
    "        '\\r', '|').replace(' / ', '|').replace(',','|').split('|')\n",
    "    for data in d[:]:\n",
    "        if len(data) == 0 or data in tagging_special:\n",
    "            d.remove(data)\n",
    "    return d\n"
   ]
  },
  {
   "cell_type": "code",
   "execution_count": 5,
   "metadata": {},
   "outputs": [],
   "source": [
    "def re_labelling(file, idx):\n",
    "\tfile = json.load(file)\n",
    "\tcurrentId = list(file.keys())[0]\n",
    "\tfile = file[currentId]\n",
    "\tfile['id'] = idx\n",
    "\tdel file['addViewCount']\n",
    "\tdel file['createdAt']\n",
    "\tdel file['updatedAt']\n",
    "\tdel file['content({\"length\":100})']\n",
    "\tdel file['isScrapped']\n",
    "\tdel file['content({\"length\":150})']\n",
    "\tfor k in file.keys():\n",
    "\t\tif k in can_be_splitted:\n",
    "\t\t\tif file[k] is None:\n",
    "\t\t\t\tcontinue\n",
    "\t\t\tfile[k] = split_multi_data(file[k])\n",
    "\t\t\tif len(file[k]) == 0:\n",
    "\t\t\t\tfile[k] = None\n",
    "\treturn file\n"
   ]
  },
  {
   "cell_type": "code",
   "execution_count": 6,
   "metadata": {},
   "outputs": [],
   "source": [
    "def save_file(d, idx):\n",
    "    file_name = data_dir + d\n",
    "    save_file_name = save_dir + 'data_re_labelled' + str(cnt) + '.json'\n",
    "    with open(file_name) as file:\n",
    "        #---#\n",
    "\n",
    "        file = re_labelling(file, idx)\n",
    "\n",
    "        #---#\n",
    "        with open(save_file_name, 'w') as f:\n",
    "            json.dump(file, f, ensure_ascii=False, indent=4, sort_keys=True)\n"
   ]
  },
  {
   "cell_type": "code",
   "execution_count": 7,
   "metadata": {},
   "outputs": [
    {
     "name": "stderr",
     "output_type": "stream",
     "text": [
      "100%|██████████| 9588/9588 [00:06<00:00, 1593.96it/s]\n"
     ]
    }
   ],
   "source": [
    "for d in tqdm(data_list):\n",
    "    save_file(d, cnt)\n",
    "    cnt += 1"
   ]
  }
 ],
 "metadata": {
  "interpreter": {
   "hash": "2ed151ba71fe6b63793b54fc9ace45867b13d671cad1da7b1f8183ce67e43377"
  },
  "kernelspec": {
   "display_name": "Python 3.7.10 64-bit ('demucs': conda)",
   "language": "python",
   "name": "python3"
  },
  "language_info": {
   "codemirror_mode": {
    "name": "ipython",
    "version": 3
   },
   "file_extension": ".py",
   "mimetype": "text/x-python",
   "name": "python",
   "nbconvert_exporter": "python",
   "pygments_lexer": "ipython3",
   "version": "3.7.10"
  },
  "orig_nbformat": 4
 },
 "nbformat": 4,
 "nbformat_minor": 2
}
