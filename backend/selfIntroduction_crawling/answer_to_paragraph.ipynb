{
 "cells": [
  {
   "cell_type": "code",
   "execution_count": 1,
   "metadata": {},
   "outputs": [],
   "source": [
    "import os\n",
    "import re\n",
    "import json\n",
    "from pprint import pprint\n",
    "from tqdm import tqdm"
   ]
  },
  {
   "cell_type": "code",
   "execution_count": 2,
   "metadata": {},
   "outputs": [],
   "source": [
    "data_dir = '../valid_data_question_seperated/'\n",
    "save_dir = '../valid_data_question_seperated_paragraph/'\n",
    "data_list = os.listdir(data_dir)"
   ]
  },
  {
   "cell_type": "code",
   "execution_count": 3,
   "metadata": {},
   "outputs": [],
   "source": [
    "def save_file(data, p_list):\n",
    "\tfor idx, p in enumerate(p_list):\n",
    "\t\tsave_file_name = save_dir + 'valid_data_question_seperated_paragraph' + str(data['id']) + '-' + str(data['sub_id']) + '-' + str(idx + 1) + '.json'\n",
    "\t\tdata['paragraph_id'] = idx + 1\n",
    "\t\tdata['answer'] = p\n",
    "\t\twith open(save_file_name, 'w') as f:\n",
    "\t\t\tjson.dump(data, f, ensure_ascii=False, indent=4, sort_keys=True)\n",
    "\t\t"
   ]
  },
  {
   "cell_type": "code",
   "execution_count": 4,
   "metadata": {},
   "outputs": [],
   "source": [
    "def answer_to_paragraph(answer) -> list:\n",
    "\tanswer = answer.splitlines(True)\n",
    "\tparagraphs = list()\n",
    "\tidx = 0\n",
    "\tfor data in answer:\n",
    "\t\tif len(paragraphs) == 0:\n",
    "\t\t\tparagraphs.append(data)\n",
    "\t\t\tcontinue\n",
    "\n",
    "\t\tif len(paragraphs[idx]) < 150:\n",
    "\t\t\tparagraphs[idx] = paragraphs[idx] + data\n",
    "\t\telse:\n",
    "\t\t\tparagraphs.append(data)\n",
    "\t\t\tidx += 1\n",
    "\tlast_idx = len(paragraphs) - 1\n",
    "\tif len(paragraphs[last_idx]) < 150:\n",
    "\t\tparagraphs[last_idx - 1] = paragraphs[last_idx - 1] + paragraphs[last_idx]\n",
    "\t\tparagraphs.remove(paragraphs[last_idx])\n",
    "\t# for p in paragraphs:\n",
    "\t# \tpprint(p)\n",
    "\t# \tprint('--------------------------------------------------------------------------------------------------------------------------')\n",
    "\treturn paragraphs"
   ]
  },
  {
   "cell_type": "code",
   "execution_count": 5,
   "metadata": {},
   "outputs": [
    {
     "name": "stderr",
     "output_type": "stream",
     "text": [
      "100%|██████████| 17730/17730 [00:22<00:00, 794.77it/s] \n"
     ]
    }
   ],
   "source": [
    "for d in tqdm(data_list):\n",
    "\tfile_name = data_dir + d\n",
    "\twith open(file_name) as file:\n",
    "\t\tdata = json.load(file)\n",
    "\t\tparagraph_list = answer_to_paragraph(answer=data['answer'])\n",
    "\t\tsave_file(data, paragraph_list)"
   ]
  },
  {
   "cell_type": "code",
   "execution_count": 6,
   "metadata": {},
   "outputs": [
    {
     "name": "stdout",
     "output_type": "stream",
     "text": [
      "total num --> 31268\n"
     ]
    }
   ],
   "source": [
    "total_num = len(os.listdir(save_dir))\n",
    "print(f'total num --> {total_num}')"
   ]
  }
 ],
 "metadata": {
  "interpreter": {
   "hash": "a471f07956214a3a9b72d05937a5ae6f29e1203c07f0f5eb7070b5309f98919a"
  },
  "kernelspec": {
   "display_name": "Python 3.7.10 64-bit ('demucs': conda)",
   "language": "python",
   "name": "python3"
  },
  "language_info": {
   "codemirror_mode": {
    "name": "ipython",
    "version": 3
   },
   "file_extension": ".py",
   "mimetype": "text/x-python",
   "name": "python",
   "nbconvert_exporter": "python",
   "pygments_lexer": "ipython3",
   "version": "3.7.10"
  },
  "orig_nbformat": 4
 },
 "nbformat": 4,
 "nbformat_minor": 2
}
